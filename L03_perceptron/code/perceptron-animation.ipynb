{
 "cells": [
  {
   "cell_type": "markdown",
   "metadata": {},
   "source": [
    "STAT 453: Deep Learning (Spring 2021)  \n",
    "\n",
    "Instructor: Sebastian Raschka (sraschka@wisc.edu)  \n",
    "Course website: http://pages.stat.wisc.edu/~sraschka/teaching/stat453-ss2021/  \n",
    "GitHub repository: https://github.com/rasbt/stat453-deep-learning-ss21"
   ]
  },
  {
   "cell_type": "code",
   "metadata": {},
   "source": [
    "%load_ext watermark\n",
    "%watermark -a 'Sebastian Raschka' -v -p numpy"
   ],
   "outputs": [],
   "execution_count": null
  },
  {
   "cell_type": "markdown",
   "metadata": {},
   "source": [
    "# L03: Perceptron animation"
   ]
  },
  {
   "cell_type": "markdown",
   "metadata": {},
   "source": [
    "## Imports"
   ]
  },
  {
   "cell_type": "code",
   "metadata": {},
   "source": [
    "import numpy as np\n",
    "import matplotlib.pyplot as plt\n",
    "%matplotlib inline"
   ],
   "outputs": [],
   "execution_count": null
  },
  {
   "cell_type": "markdown",
   "metadata": {},
   "source": [
    "## Preparing a toy dataset"
   ]
  },
  {
   "cell_type": "code",
   "metadata": {},
   "source": [
    "##########################\n",
    "### DATASET\n",
    "##########################\n",
    "\n",
    "data = np.genfromtxt('../data/perceptron_toydata.txt', delimiter='\\t')\n",
    "X, y = data[:, :2], data[:, 2]\n",
    "y = y.astype(int)\n",
    "\n",
    "print('Class label counts:', np.bincount(y))\n",
    "print('X.shape:', X.shape)\n",
    "print('y.shape:', y.shape)\n",
    "\n",
    "# Shuffling & train/test split\n",
    "shuffle_idx = np.arange(y.shape[0])\n",
    "shuffle_rng = np.random.RandomState(123)\n",
    "shuffle_rng.shuffle(shuffle_idx)\n",
    "X, y = X[shuffle_idx], y[shuffle_idx]"
   ],
   "outputs": [],
   "execution_count": null
  },
  {
   "cell_type": "code",
   "metadata": {},
   "source": [
    "plt.scatter(X[y==0, 0], X[y==0, 1], label='class 0', marker='o')\n",
    "plt.scatter(X[y==1, 0], X[y==1, 1], label='class 1', marker='s')\n",
    "plt.title('Training set')\n",
    "plt.xlabel('feature 1')\n",
    "plt.ylabel('feature 2')\n",
    "plt.xlim([-3, 3])\n",
    "plt.ylim([-3, 3])\n",
    "plt.legend()\n",
    "plt.show()"
   ],
   "outputs": [],
   "execution_count": null
  },
  {
   "cell_type": "markdown",
   "metadata": {},
   "source": [
    "## Defining the Perceptron model"
   ]
  },
  {
   "cell_type": "code",
   "metadata": {},
   "source": [
    "class Perceptron:\n",
    "    def __init__(self, num_features):\n",
    "        self.num_features = num_features\n",
    "        self.weights = np.zeros((num_features, 1), dtype=float)\n",
    "        self.bias = np.zeros(1, dtype=float)\n",
    "\n",
    "    def forward(self, x):\n",
    "        linear = np.dot(x, self.weights) + self.bias\n",
    "        predictions = np.where(linear > 0., 1, 0)\n",
    "        return predictions\n",
    "        \n",
    "    def backward(self, x, y):  \n",
    "        predictions = self.forward(x)\n",
    "        errors = y - predictions\n",
    "        return errors\n",
    "        \n",
    "    def train(self, x, y, epochs):\n",
    "        for e in range(epochs):\n",
    "            \n",
    "            for i in range(y.shape[0]):\n",
    "                errors = self.backward(x[i].reshape(1, self.num_features), y[i]).reshape(-1)\n",
    "                self.weights += (errors * x[i]).reshape(self.num_features, 1)\n",
    "                self.bias += errors\n",
    "                \n",
    "    def evaluate(self, x, y):\n",
    "        predictions = self.forward(x).reshape(-1)\n",
    "        accuracy = np.sum(predictions == y) / y.shape[0]\n",
    "        return accuracy"
   ],
   "outputs": [],
   "execution_count": null
  },
  {
   "cell_type": "markdown",
   "metadata": {},
   "source": [
    "## Training the Perceptron"
   ]
  },
  {
   "cell_type": "code",
   "metadata": {},
   "source": [
    "all_weights = []\n",
    "all_biases = []\n",
    "\n",
    "ppn = Perceptron(num_features=2)\n",
    "\n",
    "acc = 0\n",
    "\n",
    "for epoch in range(10):\n",
    "\n",
    "    for i in range(X.shape[0]):\n",
    "\n",
    "        all_weights.append(ppn.weights.copy())\n",
    "        all_biases.append(ppn.bias.copy())\n",
    "        ppn.train(X[i].reshape(1, -1), y[i].reshape(-1), epochs=1)\n",
    "\n",
    "        acc = ppn.evaluate(X, y)\n",
    "\n",
    "        if acc == 1.0:\n",
    "            break\n",
    "\n",
    "    if acc == 1.0:\n",
    "        all_weights.append(ppn.weights.copy())\n",
    "        all_biases.append(ppn.bias.copy())\n",
    "        break"
   ],
   "outputs": [],
   "execution_count": null
  },
  {
   "cell_type": "markdown",
   "metadata": {},
   "source": [
    "## Plotting the boundary"
   ]
  },
  {
   "cell_type": "code",
   "metadata": {},
   "source": [
    "##########################\n",
    "### 2D Decision Boundary\n",
    "##########################\n",
    "\n",
    "\n",
    "import imageio\n",
    "\n",
    "# c cannot be '', so added `red` as default\n",
    "scatter_highlight_defaults = {'c': 'red',\n",
    "                              'edgecolor': 'k',\n",
    "                              'alpha': 1.0,\n",
    "                              'linewidths': 2,\n",
    "                              'marker': 'o',\n",
    "                              's': 150}\n",
    "\n",
    "def plot(index):\n",
    "    \n",
    "    fig, ax = plt.subplots()\n",
    "    w, b = all_weights[index], all_biases[index]\n",
    "    \n",
    "    x_min = -20\n",
    "    y_min = ( (-(w[0] * x_min) - b[0]) \n",
    "              / w[1] )\n",
    "\n",
    "    x_max = 20\n",
    "    y_max = ( (-(w[0] * x_max) - b[0]) \n",
    "              / w[1] )\n",
    "    \n",
    "    ax.set_xlim([-5., 5])\n",
    "    ax.set_ylim([-5., 5])\n",
    "    \n",
    "    ax.set_xlabel('Iteration %d' % index)\n",
    "\n",
    "    ax.plot([x_min, x_max], [y_min, y_max], color='k')\n",
    "    \n",
    "    ax.scatter(X[y==0, 0], X[y==0, 1], label='class 0', marker='o')\n",
    "    ax.scatter(X[y==1, 0], X[y==1, 1], label='class 1', marker='s')\n",
    "    \n",
    "    ax.scatter(X[index][0], X[index][1], **scatter_highlight_defaults)\n",
    "\n",
    "\n",
    "    fig.canvas.draw()\n",
    "\t# to_string_rgb is no longer supported\n",
    "\t# added fix with `tostring_argb` -> returns 4 channel representation\n",
    "    image = np.frombuffer(fig.canvas.tostring_argb(), dtype='uint8')\n",
    "\t# updated 3 (RGB) to 4 (ARGB)\n",
    "    image = image.reshape(fig.canvas.get_width_height()[::-1] + (4,))\n",
    "\n",
    "    return image\n",
    "\n",
    "\n",
    "kwargs_write = {'fps':1.0, 'quantizer':'nq'}\n",
    "imageio.mimsave('training.gif', [plot(i) for i in range(len(all_weights))], fps=1);\n"
   ],
   "outputs": [],
   "execution_count": null
  },
  {
   "cell_type": "code",
   "metadata": {},
   "source": [],
   "outputs": [],
   "execution_count": null
  }
 ],
 "metadata": {
  "kernelspec": {
   "display_name": "Python 3",
   "language": "python",
   "name": "python3"
  },
  "language_info": {
   "codemirror_mode": {
    "name": "ipython",
    "version": 3
   },
   "file_extension": ".py",
   "mimetype": "text/x-python",
   "name": "python",
   "nbconvert_exporter": "python",
   "pygments_lexer": "ipython3",
   "version": "3.8.2"
  },
  "toc": {
   "base_numbering": 1,
   "nav_menu": {},
   "number_sections": true,
   "sideBar": true,
   "skip_h1_title": false,
   "title_cell": "Table of Contents",
   "title_sidebar": "Contents",
   "toc_cell": false,
   "toc_position": {},
   "toc_section_display": true,
   "toc_window_display": false
  }
 },
 "nbformat": 4,
 "nbformat_minor": 4
}
