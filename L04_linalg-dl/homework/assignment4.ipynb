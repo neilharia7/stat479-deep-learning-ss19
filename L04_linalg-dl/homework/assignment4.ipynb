{
 "cells": [
  {
   "cell_type": "markdown",
   "id": "a5ddd703-16c0-4ee2-8ebf-f5de727266f5",
   "metadata": {
    "ExecuteTime": {
     "end_time": "2025-01-23T03:36:09.446399Z",
     "start_time": "2025-01-23T03:36:08.720180Z"
    },
    "collapsed": true,
    "jupyter": {
     "outputs_hidden": true
    }
   },
   "source": ""
  },
  {
   "cell_type": "code",
   "id": "a2bb68408bda355c",
   "metadata": {
    "ExecuteTime": {
     "end_time": "2025-01-23T19:32:46.862836Z",
     "start_time": "2025-01-23T19:32:46.099988Z"
    }
   },
   "source": [
    "import torch\n",
    "tensor_0d = torch.FloatTensor([1.0])\n",
    "print(tensor_0d.squeeze())\n",
    "print(tensor_0d.shape)\n",
    "print(tensor_0d.dtype)"
   ],
   "outputs": [
    {
     "name": "stdout",
     "output_type": "stream",
     "text": [
      "tensor(1.)\n",
      "torch.Size([1])\n",
      "torch.float32\n"
     ]
    }
   ],
   "execution_count": 1
  },
  {
   "cell_type": "code",
   "id": "839b286536839a3b",
   "metadata": {
    "ExecuteTime": {
     "end_time": "2025-01-23T19:32:46.885740Z",
     "start_time": "2025-01-23T19:32:46.882345Z"
    }
   },
   "source": [
    "tensor_1d = torch.FloatTensor([1.0, 2.0, 3.0])\n",
    "print(tensor_1d.squeeze())\n",
    "print(tensor_1d.shape)\n",
    "print(tensor_1d.dtype)"
   ],
   "outputs": [
    {
     "name": "stdout",
     "output_type": "stream",
     "text": [
      "tensor([1., 2., 3.])\n",
      "torch.Size([3])\n",
      "torch.float32\n"
     ]
    }
   ],
   "execution_count": 2
  },
  {
   "cell_type": "code",
   "id": "dc2b121cee1da13b",
   "metadata": {
    "ExecuteTime": {
     "end_time": "2025-01-23T19:32:46.966625Z",
     "start_time": "2025-01-23T19:32:46.962709Z"
    }
   },
   "source": [
    "tensor_2d = torch.FloatTensor([[1.0, 2.0], [3.0, 4.0]])\n",
    "tensor_2d.squeeze()\n",
    "print(tensor_2d.shape)\n",
    "print(tensor_2d.dtype)"
   ],
   "outputs": [
    {
     "name": "stdout",
     "output_type": "stream",
     "text": [
      "torch.Size([2, 2])\n",
      "torch.float32\n"
     ]
    }
   ],
   "execution_count": 3
  },
  {
   "cell_type": "code",
   "id": "6797bdc0a235b90a",
   "metadata": {
    "ExecuteTime": {
     "end_time": "2025-01-23T19:32:46.994678Z",
     "start_time": "2025-01-23T19:32:46.991599Z"
    }
   },
   "source": [
    "tensor_3d = torch.FloatTensor([[[1.0, 2.0], [3.0, 4.0]], [[4.0, 5.0], [6.0, 7.0]]])\n",
    "print(tensor_3d.squeeze())\n",
    "print(tensor_3d.shape)\n",
    "print(tensor_3d.dtype)"
   ],
   "outputs": [
    {
     "name": "stdout",
     "output_type": "stream",
     "text": [
      "tensor([[[1., 2.],\n",
      "         [3., 4.]],\n",
      "\n",
      "        [[4., 5.],\n",
      "         [6., 7.]]])\n",
      "torch.Size([2, 2, 2])\n",
      "torch.float32\n"
     ]
    }
   ],
   "execution_count": 4
  },
  {
   "cell_type": "code",
   "id": "384ed19a62eddf81",
   "metadata": {
    "ExecuteTime": {
     "end_time": "2025-01-23T19:32:47.062657Z",
     "start_time": "2025-01-23T19:32:47.059574Z"
    }
   },
   "source": [
    "tensor_4d = torch.FloatTensor([[[[1.0, 2.0], [3.0, 4.0]], [[4.0, 5.0], [6.0, 7.0]]], [[[8.0, 9.0], [10.0, 11.0]], [[12.0, 13.0], [14.0, 15.0]]]])\n",
    "print(tensor_4d.squeeze())\n",
    "print(tensor_4d.shape)\n",
    "print(tensor_4d.dtype)"
   ],
   "outputs": [
    {
     "name": "stdout",
     "output_type": "stream",
     "text": [
      "tensor([[[[ 1.,  2.],\n",
      "          [ 3.,  4.]],\n",
      "\n",
      "         [[ 4.,  5.],\n",
      "          [ 6.,  7.]]],\n",
      "\n",
      "\n",
      "        [[[ 8.,  9.],\n",
      "          [10., 11.]],\n",
      "\n",
      "         [[12., 13.],\n",
      "          [14., 15.]]]])\n",
      "torch.Size([2, 2, 2, 2])\n",
      "torch.float32\n"
     ]
    }
   ],
   "execution_count": 5
  },
  {
   "metadata": {
    "ExecuteTime": {
     "end_time": "2025-01-23T19:32:47.180659Z",
     "start_time": "2025-01-23T19:32:47.176470Z"
    }
   },
   "cell_type": "code",
   "source": [
    "tensor_0d_int = tensor_0d.to(torch.int)\n",
    "tensor_0d_int"
   ],
   "id": "a4b28a32b6a1326d",
   "outputs": [
    {
     "data": {
      "text/plain": [
       "tensor([1], dtype=torch.int32)"
      ]
     },
     "execution_count": 6,
     "metadata": {},
     "output_type": "execute_result"
    }
   ],
   "execution_count": 6
  },
  {
   "metadata": {
    "ExecuteTime": {
     "end_time": "2025-01-23T19:32:47.304486Z",
     "start_time": "2025-01-23T19:32:47.301150Z"
    }
   },
   "cell_type": "code",
   "source": [
    "tensor_1d_int = tensor_1d.to(torch.int)\n",
    "tensor_1d_int"
   ],
   "id": "a37cf2bc86fd8cf2",
   "outputs": [
    {
     "data": {
      "text/plain": [
       "tensor([1, 2, 3], dtype=torch.int32)"
      ]
     },
     "execution_count": 7,
     "metadata": {},
     "output_type": "execute_result"
    }
   ],
   "execution_count": 7
  },
  {
   "metadata": {
    "ExecuteTime": {
     "end_time": "2025-01-23T19:32:47.398933Z",
     "start_time": "2025-01-23T19:32:47.395376Z"
    }
   },
   "cell_type": "code",
   "source": [
    "tensor_2d_int = tensor_2d.to(torch.int)\n",
    "tensor_2d_int"
   ],
   "id": "b2c74a168eadc7b4",
   "outputs": [
    {
     "data": {
      "text/plain": [
       "tensor([[1, 2],\n",
       "        [3, 4]], dtype=torch.int32)"
      ]
     },
     "execution_count": 8,
     "metadata": {},
     "output_type": "execute_result"
    }
   ],
   "execution_count": 8
  },
  {
   "metadata": {
    "ExecuteTime": {
     "end_time": "2025-01-23T19:32:50.478141Z",
     "start_time": "2025-01-23T19:32:50.474691Z"
    }
   },
   "cell_type": "code",
   "source": [
    "tensor_3d_int = tensor_3d.to(torch.int)\n",
    "tensor_3d_int"
   ],
   "id": "6a7b5ea1a41d1ce8",
   "outputs": [
    {
     "data": {
      "text/plain": [
       "tensor([[[1, 2],\n",
       "         [3, 4]],\n",
       "\n",
       "        [[4, 5],\n",
       "         [6, 7]]], dtype=torch.int32)"
      ]
     },
     "execution_count": 9,
     "metadata": {},
     "output_type": "execute_result"
    }
   ],
   "execution_count": 9
  },
  {
   "metadata": {
    "ExecuteTime": {
     "end_time": "2025-01-23T19:32:50.638898Z",
     "start_time": "2025-01-23T19:32:50.636392Z"
    }
   },
   "cell_type": "code",
   "source": [
    "tensor_4d_int = tensor_4d.to(torch.int)\n",
    "tensor_4d_int"
   ],
   "id": "674ff63423440eff",
   "outputs": [
    {
     "data": {
      "text/plain": [
       "tensor([[[[ 1,  2],\n",
       "          [ 3,  4]],\n",
       "\n",
       "         [[ 4,  5],\n",
       "          [ 6,  7]]],\n",
       "\n",
       "\n",
       "        [[[ 8,  9],\n",
       "          [10, 11]],\n",
       "\n",
       "         [[12, 13],\n",
       "          [14, 15]]]], dtype=torch.int32)"
      ]
     },
     "execution_count": 10,
     "metadata": {},
     "output_type": "execute_result"
    }
   ],
   "execution_count": 10
  }
 ],
 "metadata": {
  "kernelspec": {
   "display_name": "Python 3 (ipykernel)",
   "language": "python",
   "name": "python3"
  },
  "language_info": {
   "codemirror_mode": {
    "name": "ipython",
    "version": 3
   },
   "file_extension": ".py",
   "mimetype": "text/x-python",
   "name": "python",
   "nbconvert_exporter": "python",
   "pygments_lexer": "ipython3",
   "version": "3.12.6"
  }
 },
 "nbformat": 4,
 "nbformat_minor": 5
}
