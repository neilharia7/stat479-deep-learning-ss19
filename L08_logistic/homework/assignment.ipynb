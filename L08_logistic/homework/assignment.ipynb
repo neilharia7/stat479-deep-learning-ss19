{
 "cells": [
  {
   "metadata": {},
   "cell_type": "markdown",
   "source": "# Imports",
   "id": "1aaea7e2a4a5ca1"
  },
  {
   "cell_type": "code",
   "id": "initial_id",
   "metadata": {
    "collapsed": true,
    "ExecuteTime": {
     "end_time": "2025-02-13T20:05:23.428091Z",
     "start_time": "2025-02-13T20:05:23.424557Z"
    }
   },
   "source": [
    "import torch\n",
    "import torch.nn as nn\n",
    "import torch.nn.functional as F\n",
    "from torch.utils.data import Dataset, DataLoader\n",
    "from sklearn.datasets import load_iris\n",
    "from sklearn.model_selection import train_test_split\n",
    "\n",
    "import matplotlib.pyplot as plt\n"
   ],
   "outputs": [],
   "execution_count": 102
  },
  {
   "metadata": {},
   "cell_type": "markdown",
   "source": "# Iris Data",
   "id": "c9ff551be27fa68b"
  },
  {
   "metadata": {
    "ExecuteTime": {
     "end_time": "2025-02-13T20:05:23.449716Z",
     "start_time": "2025-02-13T20:05:23.446898Z"
    }
   },
   "cell_type": "code",
   "source": [
    "class IrisDataset(Dataset):\n",
    "\tdef __init__(self, data, labels):\n",
    "\t\tself.data = torch.tensor(data, dtype=torch.float32)\n",
    "\t\tself.labels = torch.tensor(labels, dtype=torch.long)\n",
    "\n",
    "\tdef __len__(self):\n",
    "\t\treturn len(self.data)\n",
    "\n",
    "\tdef __getitem__(self, idx):\n",
    "\t\treturn self.data[idx], self.labels[idx]"
   ],
   "id": "f90065807f0582e8",
   "outputs": [],
   "execution_count": 103
  },
  {
   "metadata": {
    "ExecuteTime": {
     "end_time": "2025-02-13T20:05:23.456441Z",
     "start_time": "2025-02-13T20:05:23.452691Z"
    }
   },
   "cell_type": "code",
   "source": [
    "iris = load_iris()\n",
    "data = iris.data\n",
    "labels = iris.target\n",
    "\n",
    "X_train, X_test, y_train, y_test = train_test_split(data, labels, test_size=0.3, random_state=12)\n",
    "train_dataset = IrisDataset(X_train, y_train)\n",
    "test_dataset = IrisDataset(X_test, y_test)\n",
    "\n",
    "train_loader = DataLoader(train_dataset, batch_size=10, shuffle=True)\n",
    "test_loader = DataLoader(test_dataset, batch_size=10, shuffle=False)"
   ],
   "id": "e8cf2923b85193e4",
   "outputs": [],
   "execution_count": 104
  },
  {
   "metadata": {},
   "cell_type": "markdown",
   "source": "# Constants",
   "id": "9fb3085c24435971"
  },
  {
   "metadata": {
    "ExecuteTime": {
     "end_time": "2025-02-13T20:05:23.469948Z",
     "start_time": "2025-02-13T20:05:23.468017Z"
    }
   },
   "cell_type": "code",
   "source": [
    "class Constants:\n",
    "\tNUMBER_OF_FEATURES = 4\n",
    "\tNUMBER_OF_CLASSES = 3\n",
    "\tLEARNING_RATE = 0.05\n",
    "\tEPOCHS = 100"
   ],
   "id": "9148c527f2bf70a6",
   "outputs": [],
   "execution_count": 105
  },
  {
   "metadata": {},
   "cell_type": "markdown",
   "source": "# Logistic Regression",
   "id": "cf06fc564ebd21dd"
  },
  {
   "metadata": {
    "ExecuteTime": {
     "end_time": "2025-02-13T20:05:23.483366Z",
     "start_time": "2025-02-13T20:05:23.481187Z"
    }
   },
   "cell_type": "code",
   "source": [
    "class LogisticRegression(nn.Module):\n",
    "\tdef __init__(self, number_of_features, number_of_classes):\n",
    "\t\tsuper().__init__()\n",
    "\t\tself.linear = nn.Linear(number_of_features, number_of_classes)\n",
    "\n",
    "\tdef forward(self, x):\n",
    "\t\tlinear = self.linear(x)\n",
    "\t\tprobas = F.sigmoid(linear)\n",
    "\t\treturn linear, probas"
   ],
   "id": "c223b951fe1731c3",
   "outputs": [],
   "execution_count": 106
  },
  {
   "metadata": {
    "ExecuteTime": {
     "end_time": "2025-02-13T20:05:23.664628Z",
     "start_time": "2025-02-13T20:05:23.495142Z"
    }
   },
   "cell_type": "code",
   "source": [
    "model = LogisticRegression(\n",
    "\tnumber_of_features=Constants.NUMBER_OF_FEATURES, number_of_classes=Constants.NUMBER_OF_CLASSES)\n",
    "cross_entropy_loss = nn.CrossEntropyLoss()\n",
    "optimizer = torch.optim.SGD(model.parameters(), lr=Constants.LEARNING_RATE)\n",
    "\n",
    "train_loss = []\n",
    "for epoch in range(Constants.EPOCHS):\n",
    "\n",
    "\tcurrent_loss = 0.\n",
    "\t# iterate train_loader cause __getitem__ returns inputs & labels\n",
    "\tfor inputs, labels in train_loader:\n",
    "\t\t# forward\n",
    "\t\toutputs, _ = model(inputs)\n",
    "\t\tloss = cross_entropy_loss(outputs, labels)\n",
    "\n",
    "\t\t# backward\n",
    "\t\toptimizer.zero_grad()\n",
    "\t\tloss.backward()\n",
    "\t\toptimizer.step()\n",
    "\n",
    "\t\tcurrent_loss += loss.item()\n",
    "\n",
    "\ttrain_loss.append(current_loss / len(train_loader))\n",
    "\tprint(f\"Epoch [{epoch + 1}/{Constants.EPOCHS}], Loss: {current_loss / len(train_loader):.4f}\")\n"
   ],
   "id": "f69d6c0292a26412",
   "outputs": [
    {
     "name": "stdout",
     "output_type": "stream",
     "text": [
      "Epoch [1/100], Loss: 1.3158\n",
      "Epoch [2/100], Loss: 1.0132\n",
      "Epoch [3/100], Loss: 0.7383\n",
      "Epoch [4/100], Loss: 0.6758\n",
      "Epoch [5/100], Loss: 0.6441\n",
      "Epoch [6/100], Loss: 0.6091\n",
      "Epoch [7/100], Loss: 0.6193\n",
      "Epoch [8/100], Loss: 0.5559\n",
      "Epoch [9/100], Loss: 0.4846\n",
      "Epoch [10/100], Loss: 0.5787\n",
      "Epoch [11/100], Loss: 0.5491\n",
      "Epoch [12/100], Loss: 0.4902\n",
      "Epoch [13/100], Loss: 0.4633\n",
      "Epoch [14/100], Loss: 0.4754\n",
      "Epoch [15/100], Loss: 0.4318\n",
      "Epoch [16/100], Loss: 0.4897\n",
      "Epoch [17/100], Loss: 0.4339\n",
      "Epoch [18/100], Loss: 0.4266\n",
      "Epoch [19/100], Loss: 0.3583\n",
      "Epoch [20/100], Loss: 0.3889\n",
      "Epoch [21/100], Loss: 0.3712\n",
      "Epoch [22/100], Loss: 0.3537\n",
      "Epoch [23/100], Loss: 0.3613\n",
      "Epoch [24/100], Loss: 0.3561\n",
      "Epoch [25/100], Loss: 0.3399\n",
      "Epoch [26/100], Loss: 0.3927\n",
      "Epoch [27/100], Loss: 0.3707\n",
      "Epoch [28/100], Loss: 0.3074\n",
      "Epoch [29/100], Loss: 0.3179\n",
      "Epoch [30/100], Loss: 0.3779\n",
      "Epoch [31/100], Loss: 0.3337\n",
      "Epoch [32/100], Loss: 0.2907\n",
      "Epoch [33/100], Loss: 0.2904\n",
      "Epoch [34/100], Loss: 0.3169\n",
      "Epoch [35/100], Loss: 0.2879\n",
      "Epoch [36/100], Loss: 0.3512\n",
      "Epoch [37/100], Loss: 0.2734\n",
      "Epoch [38/100], Loss: 0.3041\n",
      "Epoch [39/100], Loss: 0.2835\n",
      "Epoch [40/100], Loss: 0.2716\n",
      "Epoch [41/100], Loss: 0.2677\n",
      "Epoch [42/100], Loss: 0.3033\n",
      "Epoch [43/100], Loss: 0.2609\n",
      "Epoch [44/100], Loss: 0.2820\n",
      "Epoch [45/100], Loss: 0.2706\n",
      "Epoch [46/100], Loss: 0.2795\n",
      "Epoch [47/100], Loss: 0.2692\n",
      "Epoch [48/100], Loss: 0.2843\n",
      "Epoch [49/100], Loss: 0.2406\n",
      "Epoch [50/100], Loss: 0.2566\n",
      "Epoch [51/100], Loss: 0.2733\n",
      "Epoch [52/100], Loss: 0.2760\n",
      "Epoch [53/100], Loss: 0.2487\n",
      "Epoch [54/100], Loss: 0.2451\n",
      "Epoch [55/100], Loss: 0.2444\n",
      "Epoch [56/100], Loss: 0.2247\n",
      "Epoch [57/100], Loss: 0.2487\n",
      "Epoch [58/100], Loss: 0.2182\n",
      "Epoch [59/100], Loss: 0.2213\n",
      "Epoch [60/100], Loss: 0.2173\n",
      "Epoch [61/100], Loss: 0.2564\n",
      "Epoch [62/100], Loss: 0.2191\n",
      "Epoch [63/100], Loss: 0.2134\n",
      "Epoch [64/100], Loss: 0.2518\n",
      "Epoch [65/100], Loss: 0.2584\n",
      "Epoch [66/100], Loss: 0.2086\n",
      "Epoch [67/100], Loss: 0.2201\n",
      "Epoch [68/100], Loss: 0.2296\n",
      "Epoch [69/100], Loss: 0.2247\n",
      "Epoch [70/100], Loss: 0.2251\n",
      "Epoch [71/100], Loss: 0.2004\n",
      "Epoch [72/100], Loss: 0.2125\n",
      "Epoch [73/100], Loss: 0.2011\n",
      "Epoch [74/100], Loss: 0.1944\n",
      "Epoch [75/100], Loss: 0.2307\n",
      "Epoch [76/100], Loss: 0.1999\n",
      "Epoch [77/100], Loss: 0.2169\n",
      "Epoch [78/100], Loss: 0.2083\n",
      "Epoch [79/100], Loss: 0.2121\n",
      "Epoch [80/100], Loss: 0.2199\n",
      "Epoch [81/100], Loss: 0.1919\n",
      "Epoch [82/100], Loss: 0.2000\n",
      "Epoch [83/100], Loss: 0.1816\n",
      "Epoch [84/100], Loss: 0.1974\n",
      "Epoch [85/100], Loss: 0.2017\n",
      "Epoch [86/100], Loss: 0.2059\n",
      "Epoch [87/100], Loss: 0.1839\n",
      "Epoch [88/100], Loss: 0.1959\n",
      "Epoch [89/100], Loss: 0.1852\n",
      "Epoch [90/100], Loss: 0.1828\n",
      "Epoch [91/100], Loss: 0.1741\n",
      "Epoch [92/100], Loss: 0.1797\n",
      "Epoch [93/100], Loss: 0.1781\n",
      "Epoch [94/100], Loss: 0.1704\n",
      "Epoch [95/100], Loss: 0.1743\n",
      "Epoch [96/100], Loss: 0.1790\n",
      "Epoch [97/100], Loss: 0.1716\n",
      "Epoch [98/100], Loss: 0.1696\n",
      "Epoch [99/100], Loss: 0.1820\n",
      "Epoch [100/100], Loss: 0.1793\n"
     ]
    }
   ],
   "execution_count": 107
  },
  {
   "metadata": {},
   "cell_type": "markdown",
   "source": "# Plot",
   "id": "39799fb0e710f6e2"
  },
  {
   "metadata": {
    "ExecuteTime": {
     "end_time": "2025-02-13T20:05:23.723005Z",
     "start_time": "2025-02-13T20:05:23.677671Z"
    }
   },
   "cell_type": "code",
   "source": [
    "\n",
    "# Plot loss over epochs\n",
    "plt.plot(train_loss, label=\"Training Loss\")\n",
    "plt.xlabel(\"Epoch\")\n",
    "plt.ylabel(\"Loss\")\n",
    "plt.legend()\n",
    "plt.show()"
   ],
   "id": "e836de39c8859210",
   "outputs": [
    {
     "data": {
      "text/plain": [
       "<Figure size 640x480 with 1 Axes>"
      ],
      "image/png": "[encoded data removed]"
     },
     "metadata": {},
     "output_type": "display_data"
    }
   ],
   "execution_count": 108
  },
  {
   "metadata": {},
   "cell_type": "markdown",
   "source": "# Evaluate",
   "id": "7f5e285a71977b6c"
  },
  {
   "metadata": {
    "ExecuteTime": {
     "end_time": "2025-02-13T20:05:23.740158Z",
     "start_time": "2025-02-13T20:05:23.735697Z"
    }
   },
   "cell_type": "code",
   "source": [
    "model.eval()\n",
    "with torch.no_grad():\n",
    "\tcorrect = 0\n",
    "\ttotal = 0\n",
    "\tfor inputs, labels in test_loader:\n",
    "\t\toutputs, _ = model(inputs)\n",
    "\t\t_, predicted = torch.max(outputs.data, 1)\n",
    "\t\ttotal += labels.size(0)\n",
    "\t\tcorrect += (predicted == labels).sum().item()\n",
    "\n",
    "\tprint(f\"Test Accuracy: {100 * correct / total:.2f}%\")\n"
   ],
   "id": "21837afd748ec99c",
   "outputs": [
    {
     "name": "stdout",
     "output_type": "stream",
     "text": [
      "Test Accuracy: 97.78%\n"
     ]
    }
   ],
   "execution_count": 109
  },
  {
   "metadata": {
    "ExecuteTime": {
     "end_time": "2025-02-13T20:05:23.756146Z",
     "start_time": "2025-02-13T20:05:23.754815Z"
    }
   },
   "cell_type": "code",
   "source": "",
   "id": "d6ade4fb427630c8",
   "outputs": [],
   "execution_count": null
  }
 ],
 "metadata": {
  "kernelspec": {
   "display_name": "Python 3",
   "language": "python",
   "name": "python3"
  },
  "language_info": {
   "codemirror_mode": {
    "name": "ipython",
    "version": 2
   },
   "file_extension": ".py",
   "mimetype": "text/x-python",
   "name": "python",
   "nbconvert_exporter": "python",
   "pygments_lexer": "ipython2",
   "version": "2.7.6"
  }
 },
 "nbformat": 4,
 "nbformat_minor": 5
}
