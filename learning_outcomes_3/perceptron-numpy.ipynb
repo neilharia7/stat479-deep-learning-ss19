{
 "cells": [
  {
   "cell_type": "code",
   "execution_count": null,
   "id": "initial_id",
   "metadata": {
    "collapsed": true
   },
   "outputs": [],
   "source": [
    ""
   ]
  },
  {
   "metadata": {},
   "cell_type": "markdown",
   "source": [
    "# Perceptron\n",
    "> Implement (using numpy and pytorch) and demonstrate the workings of the perceptron learning algorithm"
   ],
   "id": "a5cc7316f7b929bb"
  },
  {
   "metadata": {
    "ExecuteTime": {
     "end_time": "2025-01-30T22:03:52.374115Z",
     "start_time": "2025-01-30T22:03:51.119901Z"
    }
   },
   "cell_type": "code",
   "source": [
    "# Import libraries\n",
    "import numpy as np\n",
    "import torch\n",
    "import matplotlib.pyplot as plt\n",
    "%matplotlib inline\n"
   ],
   "id": "ed3d3aaf9b9bfaa7",
   "outputs": [],
   "execution_count": 2
  },
  {
   "metadata": {},
   "cell_type": "markdown",
   "source": [
    "## Perceptron Formula\n",
    "## $$ {\\hat{y}} = \\sigma(x^Tw + b)$$\n",
    "\n",
    "### <font color='green'>Special Cases</font>\n",
    "\n",
    "> * in perceptron:\n",
    ">   * activation function = threshold function\n",
    "> * in linear regression:\n",
    ">\t* activation function = net input = output\n",
    "\n",
    "### $$\\sigma(\\sum_{i=0}^{m} {x_i}*{w_i}) = \\sigma(x^Tw) = {\\hat{y}}$$\n",
    "\n",
    "* $ {\\hat{y}} = output $\n",
    "* $ w = weights $\n",
    "* $ x = inputs $\n",
    "* $ b = bias \\space unit $\n",
    "* $ m = no. \\space of \\space input \\space samples $\n",
    "* $ i = i^{th} \\space training \\space sample \\space from \\space a \\space pool \\space of \\space m $\n",
    "\n",
    "* $ z = net \\space input $\n",
    "* $ \\alpha $ (activation function) $ = \\sigma(z)$\n",
    "\n",
    "Note:\n",
    "* `bias` unit included as $ w_0 $\n"
   ],
   "id": "283690c5f8f7b947"
  },
  {
   "metadata": {},
   "cell_type": "markdown",
   "source": "# Preparing toy dataset",
   "id": "57153d8999f4e265"
  },
  {
   "metadata": {
    "ExecuteTime": {
     "end_time": "2025-01-30T23:28:55.150651Z",
     "start_time": "2025-01-30T23:28:55.147835Z"
    }
   },
   "cell_type": "code",
   "source": [
    "m = 100 # number of samples\n",
    "X = np.random.randn(m, 1)   # shape/dimensions => (100, 1)\n",
    "y = np.random.randint(low=0, high=2, size=m)    # generates random numbers i.e. 0 or 1\n",
    "y = y.astype(int)\n",
    "\n",
    "print('Class label counts:', np.bincount(y))"
   ],
   "id": "fb203a8d1896f94d",
   "outputs": [
    {
     "name": "stdout",
     "output_type": "stream",
     "text": [
      "Class label counts: [57 43]\n"
     ]
    }
   ],
   "execution_count": 9
  },
  {
   "metadata": {},
   "cell_type": "markdown",
   "source": [
    "# Shuffling and train/test split\n",
    "#### <font color='red'>Why is data shuffled before training?</font>\n",
    "* Avoid bias in learning:\n",
    "\t* If the data is ordered in a particular way, such as all examples of one class followed by all examples of another class, the model might learn patterns that are not generalizable. Shuffling ensures that the model sees a diverse set of example in each mini-batch or epoch, preventing it from learning spurious patterns based on the order of teh data.\n",
    "* Improving Convergence:\n",
    "\t* Shuffling can help the model converge more quickly  and reliably during training. When the data is shuffled, the stochastic gradient descent (SGD) algorithm, which updates the model's parameters (weights), benefits from a more varied and representative samples of the data in each update step. This can lead to a more stable and efficient optimization process.\n",
    "* Reducing Overfitting:\n",
    "\t* <font color='red'>What is overfitting?</font>\n",
    "\t    * Overfitting means when a machine learning model learns the training data too well, including all the little details and noise that don't actually help it make good predictions on new data. It's like memorizing answers for a test instead of understanding the material—when the questions change, you might not do well. This means the model works great on the data it was trained on but struggles with new, unseen data.\n",
    "\t* By processing the model with a more randomized view of the data, shuffling can help reduce overfitting. The model is less likely to memorize the order of the training data and more likely to learn general patterns that apply to unseen data.\n",
    "\n"
   ],
   "id": "b39c39a810c7ef61"
  },
  {
   "metadata": {
    "ExecuteTime": {
     "end_time": "2025-01-30T23:30:49.351768Z",
     "start_time": "2025-01-30T23:30:49.347141Z"
    }
   },
   "cell_type": "code",
   "source": [
    "shuffle_idx = np.arange(y.shape[0]) # create indexes from 0 to 99\n",
    "# `123` is the seed value, by setting the seed,\n",
    "# we ensure that the sequence of random numbers generated is the same every time the code is executed\n",
    "shuffle_rng = np.random.RandomState(123)\n",
    "shuffle_rng.shuffle(shuffle_idx)    # modify the sequence in-place by shuffling the indices.\n",
    "\n",
    "X, y = X[shuffle_idx], y[shuffle_idx]   # X and y is shuffled based on random order of shuffle_idx\n",
    "\n",
    "# splitting the data into 70:30 ratio for training and testing resp.\n",
    "X_train, X_test = X[shuffle_idx[:70]], X[shuffle_idx[70:]]\n",
    "y_train, y_test = y[shuffle_idx[:70]], y[shuffle_idx[70:]]\n",
    "\n",
    "# Normalize (mean zero, unit variance)\n",
    "# Recommended to improve the performance of the machine learning models\n",
    "mu, sigma = X_train.mean(axis=0), X_train.std(axis=0)\n",
    "X_train = (X_train - mu) / sigma\n",
    "X_test = (X_test - mu) / sigma\n",
    "\n",
    "print(type(y_train))"
   ],
   "id": "e6fb4325b8f9fdd3",
   "outputs": [
    {
     "name": "stdout",
     "output_type": "stream",
     "text": [
      "<class 'numpy.ndarray'>\n"
     ]
    }
   ],
   "execution_count": 12
  },
  {
   "metadata": {
    "ExecuteTime": {
     "end_time": "2025-01-31T02:21:35.808344Z",
     "start_time": "2025-01-31T02:21:35.804086Z"
    }
   },
   "cell_type": "code",
   "source": [
    "class PerceptronNumpy:\n",
    "\tdef __init__(self, num_features):\n",
    "\t\tself.num_features = num_features\n",
    "\t\t# a column vector of weights initialized to zero.\n",
    "\t\t# will be updated during the training to define the decision boundary\n",
    "\t\tself.weights = np.zeros((num_features, 1), dtype=np.float32)\n",
    "\n",
    "\t\t# a scalar unit initialized to zero, acts an offset for the decision boundary\n",
    "\t\t# helps to shift the decision boundary with solely depending on the input features\n",
    "\t\tself.bias = np.zeros(1, dtype=np.float32)\n",
    "\n",
    "\tdef forward(self, x):\n",
    "\t\t\"\"\"\n",
    "\t\tdetermines how the perceptron processes the input data to produce an output\n",
    "\t\t:param x: inputs to the perceptron\n",
    "\t\t:return:\n",
    "\t\t\"\"\"\n",
    "\t\t# computing the weighted sum\n",
    "\t\tlinear = np.dot(x, self.weights) + self.bias\n",
    "\t\t# threshold function\n",
    "\t\tpredictions = np.where(linear > 0., 1, 0)\n",
    "\t\treturn predictions\n",
    "\n",
    "\tdef backward(self, x, y):\n",
    "\t\t\"\"\"\n",
    "\t\tcomputes the errors\n",
    "\t\tdetermines whether true class labels (y) matches the predictions (self.forward(x))\n",
    "\t\t:param x: inputs to the perceptron\n",
    "\t\t:param y: true class labels\n",
    "\t\t:return:\n",
    "\t\t\"\"\"\n",
    "\t\tpredictions = self.forward(x)\n",
    "\t\terrors = y - predictions\n",
    "\t\treturn errors\n",
    "\n",
    "\tdef train(self, x: np.ndarray, y: np.ndarray, epochs):\n",
    "\t\t\"\"\"\n",
    "\n",
    "\t\t:param x: inputs to the perceptron\n",
    "\t\t:param y: true class labels\n",
    "\t\t:param epochs: number of iterations\n",
    "\t\t:return:\n",
    "\t\t\"\"\"\n",
    "\t\tfor epoch in range(epochs):\n",
    "\n",
    "\t\t\tfor i in range(y.shape[0]): # 100 iterations\n",
    "\t\t\t\t# converting x from (self.num_features, 1) to (1, self.num_features) for matrix multiplication with self.weights\n",
    "\t\t\t\t# self.weights -> (self.num_features, 1)\n",
    "\t\t\t\t# reshape(-1) in the end flatten the dimension of the array\n",
    "\t\t\t\t# e.g. 2D array with shape (2, 3) (2 rows and 3 columns), it has 6 elements in total.\n",
    "\t\t\t\t# Using reshape(-1) will flatten the array into a 1D array with 6 elements,\n",
    "\t\t\t\terrors = self.backward(x[i].reshape(1, self.num_features), y[i]).reshape(-1)\n",
    "\n",
    "\t\t\t\tself.weights += (errors * x[i].reshape(1, self.num_features))\n",
    "\t\t\t\tself.bias += errors\n",
    "\n",
    "\tdef evaluate(self, x: np.ndarray, y: np.ndarray):\n",
    "\t\t\"\"\"\n",
    "\n",
    "\t\t:param x:\n",
    "\t\t:param y:\n",
    "\t\t:return:\n",
    "\t\t\"\"\"\n",
    "\t\tpredictions = self.forward(x).reshape(-1)\n",
    "\t\t# total number of matched labels / number of samples\n",
    "\t\taccuracy = np.sum(predictions == y) / y.shape[0]\n",
    "\t\treturn accuracy"
   ],
   "id": "9916e383f710bfa6",
   "outputs": [],
   "execution_count": 14
  },
  {
   "metadata": {},
   "cell_type": "markdown",
   "source": "# Training the perceptron",
   "id": "2b9c2e62c251dd0a"
  },
  {
   "metadata": {
    "ExecuteTime": {
     "end_time": "2025-01-31T02:21:38.616553Z",
     "start_time": "2025-01-31T02:21:38.594596Z"
    }
   },
   "cell_type": "code",
   "source": [
    "perceptron = PerceptronNumpy(num_features=1)\n",
    "\n",
    "perceptron.train(X_train, y_train, epochs=20)\n",
    "\n",
    "print(f'Weights {perceptron.weights}')\n",
    "print(f'Bias {perceptron.bias}')"
   ],
   "id": "c4abcf493d03b89e",
   "outputs": [
    {
     "name": "stdout",
     "output_type": "stream",
     "text": [
      "Weights [[-1.0050116]]\n",
      "Bias [0.]\n"
     ]
    }
   ],
   "execution_count": 15
  },
  {
   "metadata": {},
   "cell_type": "markdown",
   "source": "## Training Accuracy",
   "id": "7dfaedb75f8ea03d"
  },
  {
   "metadata": {
    "ExecuteTime": {
     "end_time": "2025-01-31T02:24:05.955711Z",
     "start_time": "2025-01-31T02:24:05.943861Z"
    }
   },
   "cell_type": "code",
   "source": [
    "training_accuracy = perceptron.evaluate(X_train, y_train)\n",
    "print(f'Training accuracy {training_accuracy}')"
   ],
   "id": "bd86fc57e79655c",
   "outputs": [
    {
     "name": "stdout",
     "output_type": "stream",
     "text": [
      "Training accuracy 0.44285714285714284\n"
     ]
    }
   ],
   "execution_count": 16
  },
  {
   "metadata": {},
   "cell_type": "markdown",
   "source": "# Evaluating the model",
   "id": "4e6e3cada7a7cb2c"
  },
  {
   "metadata": {
    "ExecuteTime": {
     "end_time": "2025-01-31T02:24:52.336114Z",
     "start_time": "2025-01-31T02:24:52.333425Z"
    }
   },
   "cell_type": "code",
   "source": [
    "testing_accuracy = perceptron.evaluate(X_test, y_test)\n",
    "print(f'Testing accuracy {testing_accuracy}')"
   ],
   "id": "633a9f128157d059",
   "outputs": [
    {
     "name": "stdout",
     "output_type": "stream",
     "text": [
      "Testing accuracy 0.4\n"
     ]
    }
   ],
   "execution_count": 17
  },
  {
   "metadata": {
    "ExecuteTime": {
     "end_time": "2025-01-31T03:55:25.287375Z",
     "start_time": "2025-01-31T03:55:25.209893Z"
    }
   },
   "cell_type": "code",
   "source": [
    "weights, bias = perceptron.weights, perceptron.bias\n",
    "\n",
    "x_min = -2\n",
    "y_min = (-(weights[0] * x_min) - bias[0])\n",
    "\n",
    "x_max = 2\n",
    "y_max = (-(weights[0] * x_max) - bias[0])\n",
    "\n",
    "figure, axis = plt.subplots(1, 2, sharex=True, figsize=(7, 3))\n",
    "\n",
    "# plot the decision boundary\n",
    "axis[0].plot([x_min, x_max], [y_min, y_max])\n",
    "axis[1].plot([x_min, x_max], [y_min, y_max])\n",
    "\n",
    "axis[0].scatter(X_train[y_train==0], X_train[y_train==0], label='class 0', marker='o')\n",
    "axis[0].scatter(X_train[y_train==1], X_train[y_train==1], label='class 1', marker='s')\n",
    "\n",
    "axis[1].scatter(X_test[y_test==0], X_test[y_test==0], label='class 0', marker='o')\n",
    "axis[1].scatter(X_test[y_test==1], X_test[y_test==1], label='class 1', marker='s')\n",
    "\n",
    "axis[1].legend(loc='upper left')\n",
    "plt.show()\n"
   ],
   "id": "b52695a6696502c6",
   "outputs": [
    {
     "data": {
      "text/plain": [
       "<Figure size 700x300 with 2 Axes>"
      ],
      "image/png": "[encoded data removed]"
     },
     "metadata": {},
     "output_type": "display_data"
    }
   ],
   "execution_count": 22
  },
  {
   "metadata": {},
   "cell_type": "code",
   "outputs": [],
   "execution_count": null,
   "source": "",
   "id": "368255ed6c60ab81"
  }
 ],
 "metadata": {
  "kernelspec": {
   "display_name": "Python 3",
   "language": "python",
   "name": "python3"
  },
  "language_info": {
   "codemirror_mode": {
    "name": "ipython",
    "version": 2
   },
   "file_extension": ".py",
   "mimetype": "text/x-python",
   "name": "python",
   "nbconvert_exporter": "python",
   "pygments_lexer": "ipython2",
   "version": "2.7.6"
  }
 },
 "nbformat": 4,
 "nbformat_minor": 5
}
